{
 "cells": [
  {
   "cell_type": "markdown",
   "metadata": {},
   "source": [
    "# Lecture 10: BVP's, Jacobi Method\n",
    "\n",
    "**Overview:**\n",
    "* Laplace and Poisson equations.\n",
    "* The Jacobi (diffusion) method.\n",
    "\n",
    "**Next Lecture:**\n",
    "* Simple random systems and diffusion.\n",
    "---\n"
   ]
  },
  {
   "cell_type": "markdown",
   "metadata": {},
   "source": [
    "## Tasks\n",
    "1. Make sure you understand the Jacobi update using array slicing.\n",
    "2. Find V(x,y) and E(x,y) for an infinitely long rectangular cylinder with the two vertical walls at a potential of +1 and the horizontal walls at a potential of -1.\n",
    "3. Can you modify the Jacobi method to implement a Gauss-Seidel method? What about including overrelaxation? This is much easier to do using the looping Jacobi method instead to the array slicing one. Also, remember that overrelaxation is unstable with the Jacobi method, so you should only implement this once you have Gauss-Seidel working. \n",
    "4. Include a term for a charge in the Jacobi algorithm (Poisson equation).\n",
    "5. Find V(x,y) and E(x,y) for a small square of charge +q positioned in between two parallel plates at V = -1 and V = +1."
   ]
  },
  {
   "cell_type": "code",
   "execution_count": 1,
   "metadata": {},
   "outputs": [],
   "source": [
    "#%matplotlib notebook\n",
    "import numpy as np\n",
    "import matplotlib.pyplot as plt\n",
    "from numba import jit\n"
   ]
  },
  {
   "cell_type": "markdown",
   "metadata": {},
   "source": [
    "### Define boundaries with the functions in this cell\n",
    "\n",
    "Below is a series of methods defining various boundary conditions"
   ]
  },
  {
   "cell_type": "code",
   "execution_count": 2,
   "metadata": {},
   "outputs": [],
   "source": [
    "def free_space(phi): return phi\n",
    "\n",
    "def parallel_plate(phi):\n",
    "    \"\"\" \n",
    "    define parallel plate potential\n",
    "    \"\"\"\n",
    "   # the operator // is floor division i.e divide and then round down to nearest integer.\n",
    "   # Using this ensures that the result is an integer so we can use it to index arrays.\n",
    "    \n",
    "    n, m = np.shape(phi)\n",
    "    w = n//2\n",
    "    h = n//3  # span 1/3 of grid in height`\n",
    "    \n",
    "    right = w + h//2 #position of plate 1\n",
    "    left = w - h//2  # positioin of plate 2\n",
    "    phi[h:2*h, left] = - 1\n",
    "    phi[h:2*h, right] =  1\n",
    "    \n",
    "    return phi\n",
    "\n",
    "def box():\n",
    "    # define boundary conditions for a box\n",
    "    \n",
    "    return phi\n",
    "\n",
    "def pipe(phi):\n",
    "    n,m = np.shape(phi)\n",
    "    r = n/200\n",
    "    tol = np.sqrt(n**2 + m**2)\n",
    "\n",
    "    X,Y = np.meshgrid(range(-n//2, n//2+1), range(-m//2, m//2+1))\n",
    "    Z = np.sqrt((X-n//8)**2 + (Y)**2)\n",
    "    \n",
    "    idx = np.nonzero(abs(Z-r) < 1)\n",
    "    phi[idx] =  1\n",
    "    return phi\n",
    "\n"
   ]
  },
  {
   "cell_type": "markdown",
   "metadata": {},
   "source": [
    "### Define Jacobi algorithm below :\n",
    "\n",
    "**First using loops and jit to speed up the process** \n",
    "try removing `@jit`, are you patient enough to wait for this to finish?"
   ]
  },
  {
   "cell_type": "code",
   "execution_count": 52,
   "metadata": {},
   "outputs": [],
   "source": [
    "@jit\n",
    "def jacobi(V,Vnew,M,N):\n",
    "    for ii in range(M):\n",
    "        for jj in range(N):\n",
    "            if ii == 0 or jj == 0 or ii == M or jj == N:\n",
    "                Vnew[ii,jj] = V[ii,jj]\n",
    "            else :\n",
    "                Vnew[ii,jj] = (V[ii+1,jj]+V[ii-1,jj]+V[ii,jj+1]+V[ii,jj-1])/4\n",
    "    return Vnew\n",
    "@jit\n",
    "def jacobi2(V,M,N, rho,dx):\n",
    "    for ii in range(M):\n",
    "        for jj in range(N):\n",
    "            if ii != 0 or jj != 0 or ii != M or jj != N:\n",
    "                V[ii,jj] = (V[ii+1,jj]+V[ii-1,jj]+V[ii,jj+1]+V[ii,jj-1])/4 - rho(ii,jj)*dx**2/4\n",
    "    return V\n",
    "\n",
    "def invDel2_loops(b, boundary, dx=1.0, converge = 1e-6):\n",
    "    \"\"\" This is the Jacobi algorithim \n",
    "    Specialized to two dimensions so that plotting is easier.\n",
    "    \"\"\"\n",
    "    V = boundary(np.zeros(b.shape, float))  # potential values at step n of the iteration   \n",
    "    Vnew = np.zeros(b.shape, float) # updated potential \n",
    "    Npoints = len(b.flatten())\n",
    "\n",
    "    t = 0  # transient before checking for convergence\n",
    "    dV = converge*10  #make sure we run through transient\n",
    "    \n",
    "    while(dV > converge): \n",
    "        \n",
    "        # move the loops outside to use jit\n",
    "#         Vnew = jacobi(V,Vnew,V.shape[0]-1,V.shape[1]-1)\n",
    "        Vnew = jacobi2(V,V.shape[0]-1,V.shape[1]-1, b, dx)\n",
    "        \n",
    "        # enforce bc's at every iteration\n",
    "        Vnew = boundary(Vnew)\n",
    "\n",
    "\n",
    "        # wait for transient before checking convergence\n",
    "        if t > 100 : \n",
    "            dV = np.sum(abs(Vnew - V))/Npoints\n",
    "        \n",
    "        # Note the explicit indexing (V[:,:]) without it Vnew will be updated with V\n",
    "        V[:,:] = Vnew \n",
    "        # for more complex objects i.e. list with sublists use deepcopy\n",
    "        t+=1\n",
    "   \n",
    "    return Vnew"
   ]
  },
  {
   "cell_type": "markdown",
   "metadata": {},
   "source": [
    "**Now using numpy array slicing** \n",
    "\n",
    "make sure you understand how this is working"
   ]
  },
  {
   "cell_type": "code",
   "execution_count": 13,
   "metadata": {
    "jupyter": {
     "source_hidden": true
    }
   },
   "outputs": [],
   "source": [
    "def invDel2(b, boundary,  dx=1.0, converge = 1e-6):\n",
    "    \"\"\" This is the Jacobi algorithim \n",
    "    Specialized to two dimensions so that plotting is easier.\n",
    "    \"\"\"\n",
    "    V = boundary(np.zeros(b.shape, float))  # potential values at step n of the iteration   \n",
    "    Vnew = np.zeros(b.shape, float) # updated potential \n",
    "    Npoints = len(b.flatten())\n",
    "\n",
    "    t = 0  # transient before checking for convergence\n",
    "    dV = converge*10  #make sure we run through transient\n",
    "    \n",
    "    while(dV > converge): \n",
    "        \n",
    "        # this update fixes V along edges = 0\n",
    "        Vnew[1:-1, 1:-1] = (V[1:-1,2:] + V[1:-1,:-2] + V[2:,1:-1] \\\n",
    "                + V[:-2,1:-1] - (dx*dx)*b[1:-1,1:-1])/4\n",
    "        \n",
    "        # enforce the boundary conditions at every update\n",
    "        Vnew = boundary(Vnew)\n",
    "        \n",
    "        # wait for transient before checking convergence\n",
    "        if t > 100 : \n",
    "            dV = np.sum(abs(Vnew - V))/Npoints\n",
    "        \n",
    "        # Note the explicit indexing (V[:,:]) without it Vnew will be updated with V\n",
    "        V[:,:] = Vnew \n",
    "        # for mor complex objects i.e. list with sublists use deepcopy\n",
    "        t+=1\n",
    "   \n",
    "    return Vnew"
   ]
  },
  {
   "cell_type": "markdown",
   "metadata": {},
   "source": [
    "### Now back to the problem at hand, Determine potential and field"
   ]
  },
  {
   "cell_type": "code",
   "execution_count": 53,
   "metadata": {},
   "outputs": [
    {
     "name": "stderr",
     "output_type": "stream",
     "text": [
      "<ipython-input-52-92b37f68dcd0>:10: NumbaWarning: \u001b[1m\n",
      "Compilation is falling back to object mode WITH looplifting enabled because Function \"jacobi2\" failed type inference due to: \u001b[1m\u001b[1m\u001b[1mInvalid use of array(float64, 2d, C) with parameters (int64, int64)\n",
      "No type info available for array(float64, 2d, C) as a callable.\u001b[0m\n",
      "\u001b[0m\u001b[1m[1] During: resolving callee type: array(float64, 2d, C)\u001b[0m\n",
      "\u001b[0m\u001b[1m[2] During: typing of call at <ipython-input-52-92b37f68dcd0> (15)\n",
      "\u001b[0m\n",
      "\u001b[1m\n",
      "File \"<ipython-input-52-92b37f68dcd0>\", line 15:\u001b[0m\n",
      "\u001b[1mdef jacobi2(V,M,N, rho,dx):\n",
      "    <source elided>\n",
      "            if ii != 0 or jj != 0 or ii != M or jj != N:\n",
      "\u001b[1m                V[ii,jj] = (V[ii+1,jj]+V[ii-1,jj]+V[ii,jj+1]+V[ii,jj-1])/4 - rho(ii,jj)*dx**2/4\n",
      "\u001b[0m                \u001b[1m^\u001b[0m\u001b[0m\n",
      "\u001b[0m\n",
      "  @jit\n",
      "<ipython-input-52-92b37f68dcd0>:10: NumbaWarning: \u001b[1m\n",
      "Compilation is falling back to object mode WITHOUT looplifting enabled because Function \"jacobi2\" failed type inference due to: \u001b[1m\u001b[1mcannot determine Numba type of <class 'numba.dispatcher.LiftedLoop'>\u001b[0m\n",
      "\u001b[1m\n",
      "File \"<ipython-input-52-92b37f68dcd0>\", line 12:\u001b[0m\n",
      "\u001b[1mdef jacobi2(V,M,N, rho,dx):\n",
      "\u001b[1m    for ii in range(M):\n",
      "\u001b[0m    \u001b[1m^\u001b[0m\u001b[0m\n",
      "\u001b[0m\u001b[0m\n",
      "  @jit\n",
      "/opt/conda/lib/python3.7/site-packages/numba/compiler.py:742: NumbaWarning: \u001b[1mFunction \"jacobi2\" was compiled in object mode without forceobj=True, but has lifted loops.\n",
      "\u001b[1m\n",
      "File \"<ipython-input-52-92b37f68dcd0>\", line 11:\u001b[0m\n",
      "\u001b[1m@jit\n",
      "\u001b[1mdef jacobi2(V,M,N, rho,dx):\n",
      "\u001b[0m\u001b[1m^\u001b[0m\u001b[0m\n",
      "\u001b[0m\n",
      "  self.func_ir.loc))\n",
      "/opt/conda/lib/python3.7/site-packages/numba/compiler.py:751: NumbaDeprecationWarning: \u001b[1m\n",
      "Fall-back from the nopython compilation path to the object mode compilation path has been detected, this is deprecated behaviour.\n",
      "\n",
      "For more information visit http://numba.pydata.org/numba-doc/latest/reference/deprecation.html#deprecation-of-object-mode-fall-back-behaviour-when-using-jit\n",
      "\u001b[1m\n",
      "File \"<ipython-input-52-92b37f68dcd0>\", line 11:\u001b[0m\n",
      "\u001b[1m@jit\n",
      "\u001b[1mdef jacobi2(V,M,N, rho,dx):\n",
      "\u001b[0m\u001b[1m^\u001b[0m\u001b[0m\n",
      "\u001b[0m\n",
      "  warnings.warn(errors.NumbaDeprecationWarning(msg, self.func_ir.loc))\n",
      "<ipython-input-52-92b37f68dcd0>:10: NumbaWarning: \u001b[1m\n",
      "Compilation is falling back to object mode WITHOUT looplifting enabled because Function \"jacobi2\" failed type inference due to: \u001b[1m\u001b[1m\u001b[1mInvalid use of array(float64, 2d, C) with parameters (int64, int64)\n",
      "No type info available for array(float64, 2d, C) as a callable.\u001b[0m\n",
      "\u001b[0m\u001b[1m[1] During: resolving callee type: array(float64, 2d, C)\u001b[0m\n",
      "\u001b[0m\u001b[1m[2] During: typing of call at <ipython-input-52-92b37f68dcd0> (15)\n",
      "\u001b[0m\n",
      "\u001b[1m\n",
      "File \"<ipython-input-52-92b37f68dcd0>\", line 15:\u001b[0m\n",
      "\u001b[1mdef jacobi2(V,M,N, rho,dx):\n",
      "    <source elided>\n",
      "            if ii != 0 or jj != 0 or ii != M or jj != N:\n",
      "\u001b[1m                V[ii,jj] = (V[ii+1,jj]+V[ii-1,jj]+V[ii,jj+1]+V[ii,jj-1])/4 - rho(ii,jj)*dx**2/4\n",
      "\u001b[0m                \u001b[1m^\u001b[0m\u001b[0m\n",
      "\u001b[0m\n",
      "  @jit\n",
      "/opt/conda/lib/python3.7/site-packages/numba/compiler.py:742: NumbaWarning: \u001b[1mFunction \"jacobi2\" was compiled in object mode without forceobj=True.\n",
      "\u001b[1m\n",
      "File \"<ipython-input-52-92b37f68dcd0>\", line 12:\u001b[0m\n",
      "\u001b[1mdef jacobi2(V,M,N, rho,dx):\n",
      "\u001b[1m    for ii in range(M):\n",
      "\u001b[0m    \u001b[1m^\u001b[0m\u001b[0m\n",
      "\u001b[0m\n",
      "  self.func_ir.loc))\n",
      "/opt/conda/lib/python3.7/site-packages/numba/compiler.py:751: NumbaDeprecationWarning: \u001b[1m\n",
      "Fall-back from the nopython compilation path to the object mode compilation path has been detected, this is deprecated behaviour.\n",
      "\n",
      "For more information visit http://numba.pydata.org/numba-doc/latest/reference/deprecation.html#deprecation-of-object-mode-fall-back-behaviour-when-using-jit\n",
      "\u001b[1m\n",
      "File \"<ipython-input-52-92b37f68dcd0>\", line 12:\u001b[0m\n",
      "\u001b[1mdef jacobi2(V,M,N, rho,dx):\n",
      "\u001b[1m    for ii in range(M):\n",
      "\u001b[0m    \u001b[1m^\u001b[0m\u001b[0m\n",
      "\u001b[0m\n",
      "  warnings.warn(errors.NumbaDeprecationWarning(msg, self.func_ir.loc))\n"
     ]
    },
    {
     "ename": "TypeError",
     "evalue": "'numpy.ndarray' object is not callable",
     "output_type": "error",
     "traceback": [
      "\u001b[0;31m---------------------------------------------------------------------------\u001b[0m",
      "\u001b[0;31mTypeError\u001b[0m                                 Traceback (most recent call last)",
      "\u001b[0;32m<ipython-input-53-a2c70535b9c9>\u001b[0m in \u001b[0;36m<module>\u001b[0;34m\u001b[0m\n\u001b[1;32m     15\u001b[0m \u001b[0;34m\u001b[0m\u001b[0m\n\u001b[1;32m     16\u001b[0m \u001b[0;31m# using loops\u001b[0m\u001b[0;34m\u001b[0m\u001b[0;34m\u001b[0m\u001b[0;34m\u001b[0m\u001b[0m\n\u001b[0;32m---> 17\u001b[0;31m \u001b[0mphi\u001b[0m \u001b[0;34m=\u001b[0m \u001b[0minvDel2_loops\u001b[0m\u001b[0;34m(\u001b[0m\u001b[0mrho\u001b[0m\u001b[0;34m,\u001b[0m \u001b[0mparallel_plate\u001b[0m\u001b[0;34m,\u001b[0m \u001b[0mdx\u001b[0m\u001b[0;34m)\u001b[0m\u001b[0;34m\u001b[0m\u001b[0;34m\u001b[0m\u001b[0m\n\u001b[0m\u001b[1;32m     18\u001b[0m \u001b[0;34m\u001b[0m\u001b[0m\n\u001b[1;32m     19\u001b[0m \u001b[0;31m# or using array slicing\u001b[0m\u001b[0;34m\u001b[0m\u001b[0;34m\u001b[0m\u001b[0;34m\u001b[0m\u001b[0m\n",
      "\u001b[0;32m<ipython-input-52-92b37f68dcd0>\u001b[0m in \u001b[0;36minvDel2_loops\u001b[0;34m(b, boundary, dx, converge)\u001b[0m\n\u001b[1;32m     31\u001b[0m         \u001b[0;31m# move the loops outside to use jit\u001b[0m\u001b[0;34m\u001b[0m\u001b[0;34m\u001b[0m\u001b[0;34m\u001b[0m\u001b[0m\n\u001b[1;32m     32\u001b[0m \u001b[0;31m#         Vnew = jacobi(V,Vnew,V.shape[0]-1,V.shape[1]-1)\u001b[0m\u001b[0;34m\u001b[0m\u001b[0;34m\u001b[0m\u001b[0;34m\u001b[0m\u001b[0m\n\u001b[0;32m---> 33\u001b[0;31m         \u001b[0mVnew\u001b[0m \u001b[0;34m=\u001b[0m \u001b[0mjacobi2\u001b[0m\u001b[0;34m(\u001b[0m\u001b[0mV\u001b[0m\u001b[0;34m,\u001b[0m\u001b[0mV\u001b[0m\u001b[0;34m.\u001b[0m\u001b[0mshape\u001b[0m\u001b[0;34m[\u001b[0m\u001b[0;36m0\u001b[0m\u001b[0;34m]\u001b[0m\u001b[0;34m-\u001b[0m\u001b[0;36m1\u001b[0m\u001b[0;34m,\u001b[0m\u001b[0mV\u001b[0m\u001b[0;34m.\u001b[0m\u001b[0mshape\u001b[0m\u001b[0;34m[\u001b[0m\u001b[0;36m1\u001b[0m\u001b[0;34m]\u001b[0m\u001b[0;34m-\u001b[0m\u001b[0;36m1\u001b[0m\u001b[0;34m,\u001b[0m \u001b[0mb\u001b[0m\u001b[0;34m,\u001b[0m \u001b[0mdx\u001b[0m\u001b[0;34m)\u001b[0m\u001b[0;34m\u001b[0m\u001b[0;34m\u001b[0m\u001b[0m\n\u001b[0m\u001b[1;32m     34\u001b[0m \u001b[0;34m\u001b[0m\u001b[0m\n\u001b[1;32m     35\u001b[0m         \u001b[0;31m# enforce bc's at every iteration\u001b[0m\u001b[0;34m\u001b[0m\u001b[0;34m\u001b[0m\u001b[0;34m\u001b[0m\u001b[0m\n",
      "\u001b[0;31mTypeError\u001b[0m: 'numpy.ndarray' object is not callable"
     ]
    }
   ],
   "source": [
    "N = 200 #grid points\n",
    "dx = 1/N\n",
    "\n",
    "# generate coordinates for each grid point\n",
    "# only required for plotting E-field\n",
    "X,Y = np.meshgrid(range(-N//2, N//2+1), range(-N//2, N//2+1))\n",
    "\n",
    "\n",
    "# the charge distrubution defines space for us\n",
    "# empty space, no charge\n",
    "rho = np.zeros([N+1, N+1])\n",
    "# rho = pipe(rho)*-5000\n",
    "\n",
    "# solution from relaxation\n",
    "\n",
    "# using loops\n",
    "phi = invDel2_loops(rho, parallel_plate, dx)\n",
    "\n",
    "# or using array slicing\n",
    "#phi = invDel2(rho, parallel_plate, dx)\n",
    "\n",
    "\n",
    "# Calculate the electric field\n",
    "EY, EX = -1*np.array(np.gradient(phi))\n",
    "magE = np.sqrt(EX**2 + EY**2)\n",
    "\n",
    "# Note, this step was not completed in shared notebook, so plots will look a bit messy\n",
    "# supress division by zero error output\n",
    "np.seterr(divide = 'ignore', invalid = 'ignore')\n",
    "EX= np.divide(EX,magE)\n",
    "EY= np.divide(EY,magE)\n"
   ]
  },
  {
   "cell_type": "markdown",
   "metadata": {},
   "source": [
    "### Make Plots"
   ]
  },
  {
   "cell_type": "code",
   "execution_count": 38,
   "metadata": {},
   "outputs": [
    {
     "data": {
      "image/png": "[encoded data removed]",
      "text/plain": [
       "<Figure size 432x288 with 4 Axes>"
      ]
     },
     "metadata": {
      "needs_background": "light"
     },
     "output_type": "display_data"
    }
   ],
   "source": [
    "fig = plt.figure()\n",
    "ax1 = fig.add_subplot(121)\n",
    "ax2 = fig.add_subplot(122)\n",
    "\n",
    "# plot potential\n",
    "m1 = ax1.pcolormesh(X, Y, phi, cmap = 'RdBu')\n",
    "\n",
    "# add an axes to put colorbar is custom location\n",
    "cax1 = fig.add_axes([0.14,0.87,0.3,0.04])\n",
    "# create colorbar\n",
    "cbar = fig.colorbar(m1,cax1, orientation = 'horizontal', ticklocation = 'top', ticks = [-1,0,1])\n",
    "cbar.set_label('Potential')\n",
    "\n",
    "# add contour lines\n",
    "ax1.contour(X,Y,phi, cmap = 'RdBu')\n",
    "ax1.set_xlabel(\"x\")\n",
    "ax1.set_ylabel(\"y\")\n",
    "\n",
    "# plot E-field \n",
    "m2 = ax2.pcolormesh(X,Y,magE, cmap = 'Reds')\n",
    "\n",
    "cax2 = fig.add_axes([0.62,0.87,0.3,0.04])\n",
    "cbar2 = fig.colorbar(m2,cax2,orientation = 'horizontal', ticklocation = 'top' )\n",
    "cbar2.set_label('Electric Field Strength')\n",
    "ax2.quiver(X[::8,::8],Y[::8,::8],EX[::8,::8], EY[::8, ::8], units = 'width') \n",
    "ax2.set_xlabel(\"x\")\n",
    "ax2.set_ylabel(\"y\")\n",
    "\n",
    "fig.subplots_adjust(left = 0.12,right = 0.96, bottom = 0.14, top = 0.86,wspace =0.35, hspace = 0.35)"
   ]
  }
 ],
 "metadata": {
  "kernelspec": {
   "display_name": "Python 3",
   "language": "python",
   "name": "python3"
  },
  "language_info": {
   "codemirror_mode": {
    "name": "ipython",
    "version": 3
   },
   "file_extension": ".py",
   "mimetype": "text/x-python",
   "name": "python",
   "nbconvert_exporter": "python",
   "pygments_lexer": "ipython3",
   "version": "3.7.3"
  }
 },
 "nbformat": 4,
 "nbformat_minor": 4
}
